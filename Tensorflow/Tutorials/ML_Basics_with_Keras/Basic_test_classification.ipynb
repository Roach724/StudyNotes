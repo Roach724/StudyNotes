{
 "cells": [
  {
   "cell_type": "code",
   "execution_count": 1,
   "metadata": {},
   "outputs": [],
   "source": [
    "import tensorflow as tf\n",
    "from tensorflow import keras\n",
    "import numpy as np"
   ]
  },
  {
   "cell_type": "code",
   "execution_count": 2,
   "metadata": {},
   "outputs": [
    {
     "name": "stdout",
     "output_type": "stream",
     "text": [
      "Downloading data from https://storage.googleapis.com/tensorflow/tf-keras-datasets/imdb.npz\n",
      "17465344/17464789 [==============================] - 4s 0us/step\n",
      "17473536/17464789 [==============================] - 4s 0us/step\n"
     ]
    }
   ],
   "source": [
    "imdb = keras.datasets.imdb\n",
    "(train_data, train_labels), (test_data, test_labels) = imdb.load_data(num_words=10000)"
   ]
  },
  {
   "cell_type": "code",
   "execution_count": 3,
   "metadata": {},
   "outputs": [
    {
     "name": "stdout",
     "output_type": "stream",
     "text": [
      "Downloading data from https://storage.googleapis.com/tensorflow/tf-keras-datasets/imdb_word_index.json\n",
      "1646592/1641221 [==============================] - 1s 1us/step\n",
      "1654784/1641221 [==============================] - 1s 1us/step\n"
     ]
    }
   ],
   "source": [
    "word_index = imdb.get_word_index()\n",
    "\n",
    "word_index = {k:(v+3) for k,v in word_index.items()}\n",
    "word_index[\"<PAD>\"] = 0\n",
    "word_index[\"<START>\"] = 1\n",
    "word_index[\"<UNK>\"] = 2\n",
    "word_index[\"<UNUSED>\"] = 3\n",
    "\n",
    "reverse_word_index = dict([(value, key)for (key, value) in word_index.items()])\n",
    "def decode_review(text):\n",
    "    return \" \".join([reverse_word_index.get(i, \"?\") for i in text])"
   ]
  },
  {
   "cell_type": "code",
   "execution_count": 4,
   "metadata": {},
   "outputs": [
    {
     "data": {
      "text/plain": [
       "\"<START> this film was just brilliant casting location scenery story direction everyone's really suited the part they played and you could just imagine being there robert <UNK> is an amazing actor and now the same being director <UNK> father came from the same scottish island as myself so i loved the fact there was a real connection with this film the witty remarks throughout the film were great it was just brilliant so much that i bought the film as soon as it was released for <UNK> and would recommend it to everyone to watch and the fly fishing was amazing really cried at the end it was so sad and you know what they say if you cry at a film it must have been good and this definitely was also <UNK> to the two little boy's that played the <UNK> of norman and paul they were just brilliant children are often left out of the <UNK> list i think because the stars that play them all grown up are such a big profile for the whole film but these children are amazing and should be praised for what they have done don't you think the whole story was so lovely because it was true and was someone's life after all that was shared with us all\""
      ]
     },
     "execution_count": 4,
     "metadata": {},
     "output_type": "execute_result"
    }
   ],
   "source": [
    "decode_review(train_data[0])"
   ]
  },
  {
   "cell_type": "code",
   "execution_count": 8,
   "metadata": {},
   "outputs": [
    {
     "data": {
      "text/plain": [
       "(256, 256)"
      ]
     },
     "execution_count": 8,
     "metadata": {},
     "output_type": "execute_result"
    }
   ],
   "source": [
    "#train_data: an array of list: array(list[], list[], ...)\n",
    "train_data = keras.preprocessing.sequence.pad_sequences(\n",
    "    train_data, value=word_index[\"<PAD>\"], padding=\"post\", maxlen=256\n",
    ")\n",
    "test_data = keras.preprocessing.sequence.pad_sequences(\n",
    "    test_data, value=word_index[\"<PAD>\"], padding=\"post\", maxlen=256\n",
    ")\n",
    "len(train_data[0]), len(test_data[0])"
   ]
  },
  {
   "cell_type": "code",
   "execution_count": 9,
   "metadata": {},
   "outputs": [
    {
     "name": "stdout",
     "output_type": "stream",
     "text": [
      "[   1   14   22   16   43  530  973 1622 1385   65  458 4468   66 3941\n",
      "    4  173   36  256    5   25  100   43  838  112   50  670    2    9\n",
      "   35  480  284    5  150    4  172  112  167    2  336  385   39    4\n",
      "  172 4536 1111   17  546   38   13  447    4  192   50   16    6  147\n",
      " 2025   19   14   22    4 1920 4613  469    4   22   71   87   12   16\n",
      "   43  530   38   76   15   13 1247    4   22   17  515   17   12   16\n",
      "  626   18    2    5   62  386   12    8  316    8  106    5    4 2223\n",
      " 5244   16  480   66 3785   33    4  130   12   16   38  619    5   25\n",
      "  124   51   36  135   48   25 1415   33    6   22   12  215   28   77\n",
      "   52    5   14  407   16   82    2    8    4  107  117 5952   15  256\n",
      "    4    2    7 3766    5  723   36   71   43  530  476   26  400  317\n",
      "   46    7    4    2 1029   13  104   88    4  381   15  297   98   32\n",
      " 2071   56   26  141    6  194 7486   18    4  226   22   21  134  476\n",
      "   26  480    5  144   30 5535   18   51   36   28  224   92   25  104\n",
      "    4  226   65   16   38 1334   88   12   16  283    5   16 4472  113\n",
      "  103   32   15   16 5345   19  178   32    0    0    0    0    0    0\n",
      "    0    0    0    0    0    0    0    0    0    0    0    0    0    0\n",
      "    0    0    0    0    0    0    0    0    0    0    0    0    0    0\n",
      "    0    0    0    0]\n"
     ]
    }
   ],
   "source": [
    "print(train_data[0])"
   ]
  },
  {
   "cell_type": "code",
   "execution_count": 10,
   "metadata": {},
   "outputs": [
    {
     "name": "stdout",
     "output_type": "stream",
     "text": [
      "Model: \"sequential\"\n",
      "_________________________________________________________________\n",
      "Layer (type)                 Output Shape              Param #   \n",
      "=================================================================\n",
      "embedding (Embedding)        (None, None, 16)          160000    \n",
      "_________________________________________________________________\n",
      "global_average_pooling1d (Gl (None, 16)                0         \n",
      "_________________________________________________________________\n",
      "dense (Dense)                (None, 16)                272       \n",
      "_________________________________________________________________\n",
      "dense_1 (Dense)              (None, 1)                 17        \n",
      "=================================================================\n",
      "Total params: 160,289\n",
      "Trainable params: 160,289\n",
      "Non-trainable params: 0\n",
      "_________________________________________________________________\n"
     ]
    }
   ],
   "source": [
    "vocab_size = 10000\n",
    "\n",
    "model = keras.Sequential([\n",
    "    keras.layers.Embedding(vocab_size, 16),\n",
    "    keras.layers.GlobalAveragePooling1D(),\n",
    "    keras.layers.Dense(16, activation=\"relu\"),\n",
    "    keras.layers.Dense(1, activation=\"sigmoid\")\n",
    "])\n",
    "model.summary()"
   ]
  },
  {
   "cell_type": "code",
   "execution_count": 12,
   "metadata": {},
   "outputs": [],
   "source": [
    "model.compile(optimizer=\"adam\", loss=\"binary_crossentropy\", metrics=[\"accuracy\"])"
   ]
  },
  {
   "cell_type": "code",
   "execution_count": 13,
   "metadata": {},
   "outputs": [],
   "source": [
    "x_val = train_data[:10000]\n",
    "partial_x_train = train_data[10000:]\n",
    "\n",
    "y_val = train_labels[:10000]\n",
    "partial_y_train = train_labels[10000:]"
   ]
  },
  {
   "cell_type": "code",
   "execution_count": 14,
   "metadata": {},
   "outputs": [
    {
     "name": "stdout",
     "output_type": "stream",
     "text": [
      "Epoch 1/40\n",
      "30/30 [==============================] - 1s 11ms/step - loss: 0.6923 - accuracy: 0.6135 - val_loss: 0.6909 - val_accuracy: 0.6344\n",
      "Epoch 2/40\n",
      "30/30 [==============================] - 0s 7ms/step - loss: 0.6884 - accuracy: 0.6817 - val_loss: 0.6857 - val_accuracy: 0.7393\n",
      "Epoch 3/40\n",
      "30/30 [==============================] - 0s 7ms/step - loss: 0.6802 - accuracy: 0.7511 - val_loss: 0.6750 - val_accuracy: 0.7179\n",
      "Epoch 4/40\n",
      "30/30 [==============================] - 0s 7ms/step - loss: 0.6653 - accuracy: 0.7500 - val_loss: 0.6575 - val_accuracy: 0.7612\n",
      "Epoch 5/40\n",
      "30/30 [==============================] - 0s 7ms/step - loss: 0.6406 - accuracy: 0.7776 - val_loss: 0.6297 - val_accuracy: 0.7759\n",
      "Epoch 6/40\n",
      "30/30 [==============================] - 0s 7ms/step - loss: 0.6061 - accuracy: 0.7958 - val_loss: 0.5944 - val_accuracy: 0.7891\n",
      "Epoch 7/40\n",
      "30/30 [==============================] - 0s 7ms/step - loss: 0.5650 - accuracy: 0.8141 - val_loss: 0.5549 - val_accuracy: 0.8073\n",
      "Epoch 8/40\n",
      "30/30 [==============================] - 0s 7ms/step - loss: 0.5192 - accuracy: 0.8330 - val_loss: 0.5124 - val_accuracy: 0.8217\n",
      "Epoch 9/40\n",
      "30/30 [==============================] - 0s 7ms/step - loss: 0.4734 - accuracy: 0.8480 - val_loss: 0.4724 - val_accuracy: 0.8336\n",
      "Epoch 10/40\n",
      "30/30 [==============================] - 0s 7ms/step - loss: 0.4310 - accuracy: 0.8640 - val_loss: 0.4375 - val_accuracy: 0.8442\n",
      "Epoch 11/40\n",
      "30/30 [==============================] - 0s 7ms/step - loss: 0.3944 - accuracy: 0.8733 - val_loss: 0.4085 - val_accuracy: 0.8525\n",
      "Epoch 12/40\n",
      "30/30 [==============================] - 0s 7ms/step - loss: 0.3631 - accuracy: 0.8821 - val_loss: 0.3850 - val_accuracy: 0.8582\n",
      "Epoch 13/40\n",
      "30/30 [==============================] - 0s 7ms/step - loss: 0.3371 - accuracy: 0.8897 - val_loss: 0.3655 - val_accuracy: 0.8633\n",
      "Epoch 14/40\n",
      "30/30 [==============================] - 0s 7ms/step - loss: 0.3146 - accuracy: 0.8948 - val_loss: 0.3501 - val_accuracy: 0.8695\n",
      "Epoch 15/40\n",
      "30/30 [==============================] - 0s 7ms/step - loss: 0.2953 - accuracy: 0.9007 - val_loss: 0.3376 - val_accuracy: 0.8709\n",
      "Epoch 16/40\n",
      "30/30 [==============================] - 0s 7ms/step - loss: 0.2778 - accuracy: 0.9048 - val_loss: 0.3266 - val_accuracy: 0.8737\n",
      "Epoch 17/40\n",
      "30/30 [==============================] - 0s 7ms/step - loss: 0.2623 - accuracy: 0.9095 - val_loss: 0.3177 - val_accuracy: 0.8766\n",
      "Epoch 18/40\n",
      "30/30 [==============================] - 0s 7ms/step - loss: 0.2482 - accuracy: 0.9152 - val_loss: 0.3107 - val_accuracy: 0.8773\n",
      "Epoch 19/40\n",
      "30/30 [==============================] - 0s 7ms/step - loss: 0.2357 - accuracy: 0.9176 - val_loss: 0.3041 - val_accuracy: 0.8802\n",
      "Epoch 20/40\n",
      "30/30 [==============================] - 0s 8ms/step - loss: 0.2243 - accuracy: 0.9227 - val_loss: 0.2994 - val_accuracy: 0.8815\n",
      "Epoch 21/40\n",
      "30/30 [==============================] - 0s 7ms/step - loss: 0.2137 - accuracy: 0.9254 - val_loss: 0.2958 - val_accuracy: 0.8801\n",
      "Epoch 22/40\n",
      "30/30 [==============================] - 0s 7ms/step - loss: 0.2043 - accuracy: 0.9295 - val_loss: 0.2921 - val_accuracy: 0.8830\n",
      "Epoch 23/40\n",
      "30/30 [==============================] - 0s 7ms/step - loss: 0.1953 - accuracy: 0.9331 - val_loss: 0.2928 - val_accuracy: 0.8807\n",
      "Epoch 24/40\n",
      "30/30 [==============================] - 0s 8ms/step - loss: 0.1865 - accuracy: 0.9367 - val_loss: 0.2878 - val_accuracy: 0.8838\n",
      "Epoch 25/40\n",
      "30/30 [==============================] - 0s 8ms/step - loss: 0.1784 - accuracy: 0.9406 - val_loss: 0.2867 - val_accuracy: 0.8843\n",
      "Epoch 26/40\n",
      "30/30 [==============================] - 0s 7ms/step - loss: 0.1711 - accuracy: 0.9443 - val_loss: 0.2860 - val_accuracy: 0.8836\n",
      "Epoch 27/40\n",
      "30/30 [==============================] - 0s 7ms/step - loss: 0.1644 - accuracy: 0.9466 - val_loss: 0.2862 - val_accuracy: 0.8829\n",
      "Epoch 28/40\n",
      "30/30 [==============================] - 0s 7ms/step - loss: 0.1575 - accuracy: 0.9505 - val_loss: 0.2856 - val_accuracy: 0.8841\n",
      "Epoch 29/40\n",
      "30/30 [==============================] - 0s 7ms/step - loss: 0.1518 - accuracy: 0.9517 - val_loss: 0.2853 - val_accuracy: 0.8856\n",
      "Epoch 30/40\n",
      "30/30 [==============================] - 0s 7ms/step - loss: 0.1457 - accuracy: 0.9545 - val_loss: 0.2864 - val_accuracy: 0.8856\n",
      "Epoch 31/40\n",
      "30/30 [==============================] - 0s 7ms/step - loss: 0.1403 - accuracy: 0.9571 - val_loss: 0.2876 - val_accuracy: 0.8858\n",
      "Epoch 32/40\n",
      "30/30 [==============================] - 0s 7ms/step - loss: 0.1351 - accuracy: 0.9589 - val_loss: 0.2880 - val_accuracy: 0.8854\n",
      "Epoch 33/40\n",
      "30/30 [==============================] - 0s 7ms/step - loss: 0.1297 - accuracy: 0.9609 - val_loss: 0.2899 - val_accuracy: 0.8851\n",
      "Epoch 34/40\n",
      "30/30 [==============================] - 0s 7ms/step - loss: 0.1251 - accuracy: 0.9639 - val_loss: 0.2911 - val_accuracy: 0.8862\n",
      "Epoch 35/40\n",
      "30/30 [==============================] - 0s 7ms/step - loss: 0.1204 - accuracy: 0.9655 - val_loss: 0.2953 - val_accuracy: 0.8842\n",
      "Epoch 36/40\n",
      "30/30 [==============================] - 0s 7ms/step - loss: 0.1159 - accuracy: 0.9667 - val_loss: 0.2958 - val_accuracy: 0.8842\n",
      "Epoch 37/40\n",
      "30/30 [==============================] - 0s 7ms/step - loss: 0.1119 - accuracy: 0.9698 - val_loss: 0.2971 - val_accuracy: 0.8848\n",
      "Epoch 38/40\n",
      "30/30 [==============================] - 0s 7ms/step - loss: 0.1077 - accuracy: 0.9705 - val_loss: 0.3000 - val_accuracy: 0.8839\n",
      "Epoch 39/40\n",
      "30/30 [==============================] - 0s 7ms/step - loss: 0.1039 - accuracy: 0.9715 - val_loss: 0.3040 - val_accuracy: 0.8830\n",
      "Epoch 40/40\n",
      "30/30 [==============================] - 0s 7ms/step - loss: 0.1005 - accuracy: 0.9729 - val_loss: 0.3052 - val_accuracy: 0.8829\n"
     ]
    }
   ],
   "source": [
    "history = model.fit(partial_x_train, partial_y_train, epochs=40, batch_size=512, validation_data=(x_val, y_val))"
   ]
  },
  {
   "cell_type": "code",
   "execution_count": 15,
   "metadata": {},
   "outputs": [
    {
     "name": "stdout",
     "output_type": "stream",
     "text": [
      "782/782 [==============================] - 1s 2ms/step - loss: 0.3246 - accuracy: 0.8734\n",
      "[0.32456550002098083, 0.8733599781990051]\n"
     ]
    }
   ],
   "source": [
    "results = model.evaluate(test_data, test_labels)\n",
    "print(results)"
   ]
  },
  {
   "cell_type": "code",
   "execution_count": 16,
   "metadata": {},
   "outputs": [
    {
     "data": {
      "text/plain": [
       "dict_keys(['loss', 'accuracy', 'val_loss', 'val_accuracy'])"
      ]
     },
     "execution_count": 16,
     "metadata": {},
     "output_type": "execute_result"
    }
   ],
   "source": [
    "history_dict = history.history\n",
    "history_dict.keys()"
   ]
  },
  {
   "cell_type": "code",
   "execution_count": 17,
   "metadata": {},
   "outputs": [
    {
     "data": {
      "image/png": "[encoded data removed]",
      "text/plain": [
       "<Figure size 432x288 with 1 Axes>"
      ]
     },
     "metadata": {
      "needs_background": "light"
     },
     "output_type": "display_data"
    }
   ],
   "source": [
    "import matplotlib.pyplot as plt\n",
    "\n",
    "acc = history_dict[\"accuracy\"]\n",
    "val_acc = history_dict[\"val_accuracy\"]\n",
    "loss = history_dict[\"loss\"]\n",
    "val_loss = history_dict[\"val_loss\"]\n",
    "\n",
    "epochs = range(1, len(acc) + 1)\n",
    "plt.plot(epochs, loss, \"bo\", label=\"Training loss\")\n",
    "plt.plot(epochs, val_loss, \"b\", label=\"Validation loss\")\n",
    "plt.title(\"Training and validation loss\")\n",
    "plt.xlabel(\"Epochs\")\n",
    "plt.ylabel(\"Loss\")\n",
    "plt.legend()\n",
    "plt.show()"
   ]
  },
  {
   "cell_type": "code",
   "execution_count": 18,
   "metadata": {},
   "outputs": [
    {
     "data": {
      "image/png": "[encoded data removed]",
      "text/plain": [
       "<Figure size 432x288 with 1 Axes>"
      ]
     },
     "metadata": {
      "needs_background": "light"
     },
     "output_type": "display_data"
    }
   ],
   "source": [
    "plt.clf()\n",
    "\n",
    "plt.plot(epochs, acc, \"bo\", label=\"Training accuracy\")\n",
    "plt.plot(epochs, val_acc, \"b\", label=\"Validation accuracy\")\n",
    "plt.title(\"Training and validation accuracy\")\n",
    "plt.xlabel(\"Epochs\")\n",
    "plt.ylabel(\"Accuracy\")\n",
    "plt.legend()\n",
    "plt.show()\n"
   ]
  }
 ],
 "metadata": {
  "interpreter": {
   "hash": "4ce0e62306dd6a5716965d4519ada776f947e6dfc145b604b11307c10277ef29"
  },
  "kernelspec": {
   "display_name": "Python 3.7.4 64-bit",
   "name": "python3"
  },
  "language_info": {
   "codemirror_mode": {
    "name": "ipython",
    "version": 3
   },
   "file_extension": ".py",
   "mimetype": "text/x-python",
   "name": "python",
   "nbconvert_exporter": "python",
   "pygments_lexer": "ipython3",
   "version": "3.7.4"
  },
  "orig_nbformat": 4
 },
 "nbformat": 4,
 "nbformat_minor": 2
}
