{
 "cells": [
  {
   "cell_type": "code",
   "execution_count": 24,
   "metadata": {},
   "outputs": [],
   "source": [
    "import pandas as pd\n",
    "import numpy as np\n",
    "import gc\n",
    "import re\n",
    "from dateutil.relativedelta import relativedelta\n",
    "from tqdm import tqdm"
   ]
  },
  {
   "cell_type": "code",
   "execution_count": 2,
   "metadata": {},
   "outputs": [
    {
     "name": "stderr",
     "output_type": "stream",
     "text": [
      "C:\\Python39\\lib\\site-packages\\IPython\\core\\interactiveshell.py:3444: DtypeWarning: Columns (4,5,15,16,23) have mixed types.Specify dtype option on import or set low_memory=False.\n",
      "  exec(code_obj, self.user_global_ns, self.user_ns)\n"
     ]
    },
    {
     "data": {
      "text/plain": [
       "0"
      ]
     },
     "execution_count": 2,
     "metadata": {},
     "output_type": "execute_result"
    }
   ],
   "source": [
    "invoice_stat = pd.read_csv(\"data/invoice_stat.csv\")\n",
    "order_info = pd.read_csv(\"data/order_info.csv\")\n",
    "tax_relate = pd.read_csv(\"data/tax_relate.csv\")\n",
    "\n",
    "orders = order_info[order_info[\"product_id\"]==\"c789941d88c84c6193be364ce18995f5\"]\n",
    "order_info[\"busi_time\"] = pd.to_datetime(order_info[\"busi_time\"], dayfirst=True)\n",
    "invoice_client = set(invoice_stat[\"tax_code\"])\n",
    "tax_client = set(tax_relate[\"unifiedcredit_code\"])\n",
    "order_client = set(orders[\"tax_code\"])\n",
    "common_client = order_client.intersection(invoice_client).intersection(tax_client)\n",
    "\n",
    "# orders preprocess\n",
    "def remove_duplicates(df):\n",
    "    if len(df) < 2:\n",
    "        return df\n",
    "    df = df.sort_values(by=\"created_on\")\n",
    "    passed = df[df[\"status\"]==\"RETRIAL_PASSED\"]\n",
    "    if len(passed) > 0:\n",
    "        return passed.tail(1)\n",
    "    else:\n",
    "        return df.tail(1)\n",
    "orders = orders.groupby(\"tax_code\", as_index=False).apply(remove_duplicates)\n",
    "orders = orders[orders[\"tax_code\"].isin(common_client)].reset_index(drop=True)\n",
    "orders[\"busi_time\"] = pd.to_datetime(orders[\"busi_time\"], dayfirst=True)\n",
    "orders[\"busi_date\"] = pd.to_datetime(orders.busi_time.apply(lambda x: x.replace(day=1).date()))\n",
    "\n",
    "# invoice preprocess\n",
    "invoice = invoice_stat[invoice_stat[\"tax_code\"].isin(common_client)].reset_index(drop=True)\n",
    "invoice = invoice[(~invoice[\"bill_month\"].isnull()) & (invoice[\"bill_month\"]!=\"0000-00\")]\n",
    "invoice.loc[:, \"bill_month\"] = pd.to_datetime(invoice[\"bill_month\"].apply(lambda x: x + \"-01\"))\n",
    "invoice_cols = [\"price_tax\", \"price_amount\", \"tax_amount\", \"tax_rate\", \"invoice_qty\", \"company_qty\",\n",
    "                \"price_tax_valid\", \"price_amount_valid\", \"tax_amount_valid\", \"tax_rate_valid\", \"invoice_qty_valid\", \"company_qty_valid\"]\n",
    "# tax preprocess\n",
    "def parse_charge_project(x):\n",
    "    if re.match(\".*增值税.*\", x):\n",
    "        return \"VAT\"\n",
    "    elif re.match(\".*所得税.*\", x):\n",
    "        return \"income_tax\"\n",
    "    else:\n",
    "        return \"other_tax\"\n",
    "tax = tax_relate[tax_relate[\"unifiedcredit_code\"].isin(common_client)].reset_index(drop=True)\n",
    "tax_cols = [\"unifiedcredit_code\", \"pay_date\", \"charge_project_parse\", \"alreadypay_taxamount\"]\n",
    "tax[\"charge_project_parse\"] = tax[\"charge_project\"].apply(parse_charge_project)\n",
    "tax[\"pay_date\"] = pd.to_datetime(tax[\"payin_date\"], dayfirst=True, errors=\"coerce\")\n",
    "tax[\"pay_date\"] = pd.to_datetime(tax[\"pay_date\"].apply(lambda x: x.replace(day=1).date()))\n",
    "tax_stats = tax[tax_cols].groupby([\"unifiedcredit_code\", \"pay_date\", \"charge_project_parse\"], as_index=False).agg(sum)\n",
    "tax_stats.rename({\"unifiedcredit_code\":\"tax_code\"}, axis=1, inplace=True)\n",
    "arr = tax_stats.set_index([\"tax_code\", \"pay_date\", \"charge_project_parse\"]).unstack(2).reset_index().values\n",
    "tax_stats = pd.DataFrame(arr, columns=[\"tax_code\", \"pay_date\", \"VAT\", \"income_tax\", \"other_tax\"]).fillna(0)\n",
    "\n",
    "del invoice_stat\n",
    "del tax_relate\n",
    "gc.collect()"
   ]
  },
  {
   "cell_type": "code",
   "execution_count": 3,
   "metadata": {},
   "outputs": [],
   "source": [
    "def make_lag_df(ref):\n",
    "    lag_df_dict = {}\n",
    "    for lag in [3, 6, 9, 12]:\n",
    "        lag_df_list = []\n",
    "        for row in ref.iterrows():\n",
    "            drange = pd.Series(pd.date_range(end=row[1][\"busi_date\"], periods=lag, freq=\"M\", closed=\"right\").date).apply(lambda x: x.replace(day=1))\n",
    "            tax_code = pd.Series(np.repeat(row[1][\"tax_code\"], lag))\n",
    "            tmp = pd.DataFrame({\"tax_code\":tax_code, \"date\": drange})\n",
    "            tmp[\"date\"] = pd.to_datetime(tmp[\"date\"])\n",
    "            lag_df_list.append(tmp)\n",
    "        lag_df = pd.concat(lag_df_list)\n",
    "        lag_df_dict[lag] = lag_df\n",
    "    return lag_df_dict\n",
    "lag_df_dict = make_lag_df(orders)"
   ]
  },
  {
   "cell_type": "code",
   "execution_count": 4,
   "metadata": {},
   "outputs": [],
   "source": [
    "def make_invoice_lag_feature(stats: pd.DataFrame, lags: dict) -> pd.DataFrame:\n",
    "    result = lags.get(3)\n",
    "    result = result[[\"tax_code\"]].drop_duplicates()\n",
    "    for lag, lag_df in lags.items():\n",
    "        df = lag_df.merge(stats, left_on=[\"tax_code\", \"date\"], right_on=[\"tax_code\", \"bill_month\"], how=\"left\")\n",
    "        df = df[[\"tax_code\", \"date\"] + invoice_cols]\n",
    "        df = df.groupby(\"tax_code\", as_index=False)[[\"price_amount\", \"tax_amount\", \"invoice_qty\", \"company_qty\",\n",
    "                                                     \"price_amount_valid\", \"company_qty_valid\"]].\\\n",
    "                aggregate(price_amount=(\"price_amount\", \"sum\"), tax_amount=(\"tax_amount\", \"sum\"), invoice_qty=(\"invoice_qty\", \"sum\"),\n",
    "                    downstream_qty=(\"company_qty\", \"sum\"), break_point_qty=(\"price_amount\", \"count\"),\n",
    "                    price_amount_valid=(\"price_amount_valid\", \"sum\"), downstream_qty_valid=(\"company_qty_valid\", \"sum\"))\n",
    "        df[\"break_point_qty\"] = lag - df[\"break_point_qty\"]\n",
    "        df[\"price_amount_valid_rate\"] = df[\"price_amount_valid\"] / df[\"price_amount\"]\n",
    "        df[\"downstream_qty_valid_rate\"] = df[\"downstream_qty_valid\"] / df[\"downstream_qty\"]\n",
    "        df.drop([\"price_amount_valid\", \"downstream_qty_valid\"], axis=1, inplace=True)\n",
    "        if lag != 12:\n",
    "            #\n",
    "            yoy_df = lag_df.copy()\n",
    "            yoy_df[\"date\"] = yoy_df[\"date\"].apply(lambda x: x.replace(year=x.year-1))\n",
    "            yoy_df = yoy_df.merge(stats, left_on=[\"tax_code\", \"date\"], right_on=[\"tax_code\", \"bill_month\"], how=\"left\")\n",
    "            yoy_df = yoy_df[[\"tax_code\", \"date\"] + invoice_cols]\n",
    "            yoy_df = yoy_df.groupby(\"tax_code\", as_index=False)[[\"price_amount\", \"tax_amount\", \"invoice_qty\", \"company_qty\",\n",
    "                                                                 \"price_amount_valid\", \"company_qty_valid\"]].\\\n",
    "                    aggregate(price_amount=(\"price_amount\", \"sum\"), tax_amount=(\"tax_amount\", \"sum\"), invoice_qty=(\"invoice_qty\", \"sum\"),\n",
    "                        downstream_qty=(\"company_qty\", \"sum\"), break_point_qty=(\"price_amount\", \"count\"),\n",
    "                        price_amount_valid=(\"price_amount_valid\", \"sum\"), downstream_qty_valid=(\"company_qty_valid\", \"sum\"))\n",
    "            yoy_df[\"price_amount_valid_rate\"] = yoy_df[\"price_amount_valid\"] / yoy_df[\"price_amount\"]\n",
    "            yoy_df[\"downstream_qty_valid_rate\"] = yoy_df[\"downstream_qty_valid\"] / yoy_df[\"downstream_qty\"]\n",
    "            yoy_df.drop([\"price_amount_valid\", \"downstream_qty_valid\"], axis=1, inplace=True)\n",
    "            base = yoy_df.loc[:, [\"price_amount\", \"invoice_qty\", \"downstream_qty\", \"price_amount_valid_rate\", \"downstream_qty_valid_rate\"]]\n",
    "            inc = (df.loc[:, [\"price_amount\", \"invoice_qty\", \"downstream_qty\", \"price_amount_valid_rate\" , \"downstream_qty_valid_rate\"]] - base).divide(base)\n",
    "            inc.rename(columns={\"price_amount\":\"yoy\"+str(lag)+\"_price_amount\", \"invoice_qty\":\"yoy\"+str(lag)+\"_invoice_qty\", \"downstream_qty\":\"yoy\"+str(lag)+\"_downstream_qty\",\n",
    "                                \"price_amount_valid_rate\":\"yoy\"+str(lag)+\"_price_amount_valid_rate\", \"downstream_qty_valid_rate\":\"yoy\"+str(lag)+\"_downstream_qty_valid_rate\"},\n",
    "                    inplace=True)\n",
    "            df = pd.concat([df, inc], axis=1)\n",
    "            \n",
    "            #\n",
    "            mom_df = lag_df.copy()\n",
    "            mom_df[\"date\"] = mom_df[\"date\"].apply(lambda x: x - relativedelta(months=lag))   \n",
    "            mom_df = mom_df.merge(stats, left_on=[\"tax_code\", \"date\"], right_on=[\"tax_code\", \"bill_month\"], how=\"left\")\n",
    "            mom_df = mom_df[[\"tax_code\", \"date\"] + invoice_cols]\n",
    "            mom_df = mom_df.groupby(\"tax_code\", as_index=False)[[\"price_amount\", \"tax_amount\", \"invoice_qty\", \"company_qty\",\n",
    "                                                                 \"price_amount_valid\", \"company_qty_valid\"]].\\\n",
    "                    aggregate(price_amount=(\"price_amount\", \"sum\"), tax_amount=(\"tax_amount\", \"sum\"), invoice_qty=(\"invoice_qty\", \"sum\"),\n",
    "                        downstream_qty=(\"company_qty\", \"sum\"), break_point_qty=(\"price_amount\", \"count\"),\n",
    "                        price_amount_valid=(\"price_amount_valid\", \"sum\"), downstream_qty_valid=(\"company_qty_valid\", \"sum\"))\n",
    "            mom_df[\"price_amount_valid_rate\"] = mom_df[\"price_amount_valid\"] / mom_df[\"price_amount\"]\n",
    "            mom_df[\"downstream_qty_valid_rate\"] = mom_df[\"downstream_qty_valid\"] / mom_df[\"downstream_qty\"]\n",
    "            mom_df.drop([\"price_amount_valid\", \"downstream_qty_valid\"], axis=1, inplace=True)\n",
    "            base = mom_df.loc[:, [\"price_amount\", \"invoice_qty\", \"downstream_qty\", \"price_amount_valid_rate\", \"downstream_qty_valid_rate\"]]\n",
    "            inc = (df.loc[:, [\"price_amount\", \"invoice_qty\", \"downstream_qty\", \"price_amount_valid_rate\", \"downstream_qty_valid_rate\"]] - base).divide(base)\n",
    "            inc.rename(columns={\"price_amount\":\"mom\"+str(lag)+\"_price_amount\", \"invoice_qty\":\"mom\"+str(lag)+\"_invoice_qty\", \"downstream_qty\":\"mom\"+str(lag)+\"_downstream_qty\",\n",
    "                                \"price_amount_valid_rate\":\"mom\"+str(lag)+\"_price_amount_valid_rate\", \"downstream_qty_valid_rate\":\"mom\"+str(lag)+\"_downstream_qty_valid_rate\"},\n",
    "                    inplace=True)\n",
    "            df = pd.concat([df, inc], axis=1)\n",
    "            \n",
    "            \n",
    "        #renaming columns\n",
    "        df.rename(columns={\"price_amount\":\"lag\"+str(lag)+\"_price_amount\", \"tax_amount\":\"lag\"+str(lag)+\"_tax_amount\", \"invoice_qty\":\"lag\"+str(lag)+\"_invoice_qty\",\n",
    "                           \"downstream_qty\":\"lag\"+str(lag)+\"_downstream_qty\", \"break_point_qty\":\"lag\"+str(lag)+\"_break_point_qty\",\n",
    "                           \"price_amount_valid_rate\":\"lag\"+str(lag)+\"_price_amount_valid_rate\", \"downstream_qty_valid_rate\":\"lag\"+str(lag)+\"_downstream_qty_valid_rate\"}, inplace=True)\n",
    "        result = result.merge(df, on=\"tax_code\")\n",
    "    for col in result.columns:\n",
    "        result.loc[(result[col]==np.inf) | (result[col]==-np.inf), col] = np.NaN\n",
    "    return result"
   ]
  },
  {
   "cell_type": "code",
   "execution_count": 7,
   "metadata": {},
   "outputs": [],
   "source": [
    "invoice_feature = make_invoice_lag_feature(invoice, lag_df_dict)"
   ]
  },
  {
   "cell_type": "code",
   "execution_count": 9,
   "metadata": {},
   "outputs": [],
   "source": [
    "# tax features\n",
    "def make_tax_lag_feature(stats: pd.DataFrame, lags: dict) -> pd.DataFrame:\n",
    "    result = lags.get(3)\n",
    "    result = result[[\"tax_code\"]].drop_duplicates()\n",
    "    for lag, lag_df in lags.items():\n",
    "        df = lag_df.merge(stats, left_on=[\"tax_code\", \"date\"], right_on=[\"tax_code\", \"pay_date\"], how=\"left\")\n",
    "        df = df.groupby(\"tax_code\", as_index=False)[[\"VAT\", \"income_tax\", \"other_tax\"]].\\\n",
    "                aggregate(VAT=(\"VAT\", \"sum\"), income_tax=(\"income_tax\", \"sum\"), other_tax=(\"other_tax\", \"sum\"))\n",
    "        df.rename(columns={\"VAT\":\"lag\"+str(lag)+\"_VAT\", \"income_tax\":\"lag\"+str(lag)+\"_income_tax\",\n",
    "                           \"other_tax\":\"lag\"+str(lag)+\"_other_tax\"}, inplace=True)\n",
    "        result = result.merge(df, on=\"tax_code\")\n",
    "    return result\n"
   ]
  },
  {
   "cell_type": "code",
   "execution_count": 10,
   "metadata": {},
   "outputs": [],
   "source": [
    "tax_feature = make_tax_lag_feature(tax_stats, lag_df_dict)"
   ]
  },
  {
   "cell_type": "code",
   "execution_count": 35,
   "metadata": {},
   "outputs": [],
   "source": [
    "def make_order_feature(orders: pd.DataFrame, history: pd.DataFrame) -> pd.DataFrame:\n",
    "    history_cpy = history[history[\"product_id\"]!=\"c789941d88c84c6193be364ce18995f5\"].copy()\n",
    "    res = []\n",
    "    for row in tqdm(list(orders[[\"tax_code\", \"busi_time\"]].iterrows())):\n",
    "        busi_time = row[1][\"busi_time\"]\n",
    "        tax_code = row[1][\"tax_code\"]\n",
    "        his = history_cpy.loc[\n",
    "            (history_cpy[\"busi_time\"]<busi_time) & (history_cpy[\"tax_code\"]==tax_code), [\"status\", \"money\", \"created_on\"]\n",
    "        ]\n",
    "        his = remove_duplicates(his)\n",
    "        cnt = len(his)\n",
    "        passed = len(his[his[\"status\"]==\"RETRAIL_PASSED\"])\n",
    "        balance = his[\"money\"].sum()\n",
    "        tmp = pd.DataFrame({\"tax_code\":tax_code, \"num_applied_products\":cnt, \"num_passed_products\":passed, \"loan_balance\": balance}, index=[0])\n",
    "        res.append(tmp)\n",
    "    result = pd.concat(res).reset_index(drop=True)\n",
    "    return result"
   ]
  },
  {
   "cell_type": "code",
   "execution_count": 36,
   "metadata": {},
   "outputs": [
    {
     "name": "stderr",
     "output_type": "stream",
     "text": [
      "100%|██████████| 8432/8432 [04:28<00:00, 31.40it/s]\n"
     ]
    }
   ],
   "source": [
    "order_feature = make_order_feature(orders, order_info)"
   ]
  },
  {
   "cell_type": "code",
   "execution_count": 46,
   "metadata": {},
   "outputs": [],
   "source": [
    "dataset = order_feature.merge(invoice_feature, on=\"tax_code\").merge(tax_feature, on=\"tax_code\")\n",
    "dataset = dataset.merge(orders[[\"tax_code\", \"status\"]], on=\"tax_code\")\n",
    "dataset[\"status\"] = dataset[\"status\"].apply(lambda x: 1 if x==\"RETRIAL_PASSED\" else 0)\n",
    "dataset.rename(columns={\"status\":\"label\"}, inplace=True)\n",
    "dataset.to_csv(\"data/dataset_remodel.csv\", index=False)"
   ]
  }
 ],
 "metadata": {
  "interpreter": {
   "hash": "63fd5069d213b44bf678585dea6b12cceca9941eaf7f819626cde1f2670de90d"
  },
  "kernelspec": {
   "display_name": "Python 3.9.6 64-bit",
   "language": "python",
   "name": "python3"
  },
  "language_info": {
   "codemirror_mode": {
    "name": "ipython",
    "version": 3
   },
   "file_extension": ".py",
   "mimetype": "text/x-python",
   "name": "python",
   "nbconvert_exporter": "python",
   "pygments_lexer": "ipython3",
   "version": "3.9.6"
  },
  "orig_nbformat": 4
 },
 "nbformat": 4,
 "nbformat_minor": 2
}
