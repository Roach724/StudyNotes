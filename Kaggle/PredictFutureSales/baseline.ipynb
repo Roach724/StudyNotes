{
 "cells": [
  {
   "cell_type": "code",
   "execution_count": 1,
   "metadata": {},
   "outputs": [],
   "source": [
    "import pandas as pd\n",
    "import numpy as np\n",
    "import itertools\n",
    "import matplotlib.pyplot as plt\n",
    "import seaborn as sns\n",
    "import gc\n",
    "import lightgbm as lgb\n",
    "import joblib\n",
    "from sklearn.linear_model import Lasso, Ridge\n",
    "from sklearn.ensemble import RandomForestRegressor\n",
    "from sklearn.metrics import mean_squared_error\n",
    "import datetime\n",
    "from tqdm import tqdm\n",
    "from joblib import Parallel, delayed"
   ]
  },
  {
   "cell_type": "code",
   "execution_count": 3,
   "metadata": {},
   "outputs": [],
   "source": [
    "items = pd.read_csv(\"data/input/items.csv\")\n",
    "categories = pd.read_csv(\"data/input/item_categories.csv\")\n",
    "shops = pd.read_csv(\"data/input/shops.csv\")\n",
    "train = pd.read_csv(\"data/input/sales_train.csv\")\n",
    "test = pd.read_csv(\"data/input/test.csv\")"
   ]
  },
  {
   "cell_type": "code",
   "execution_count": 4,
   "metadata": {},
   "outputs": [],
   "source": [
    "# some statistics of the target\n",
    "def apply_parallel(dfgroup, func, n_jobs=4, **kwargs):\n",
    "    results = Parallel(n_jobs=n_jobs)(delayed(func, **kwargs)(group) for name, group in tqdm(dfgroup))\n",
    "    return pd.concat(results)\n",
    "\n",
    "def remove_outliers(df):\n",
    "    q = df[\"item_cnt_day\"].quantile(0.999)\n",
    "    df = df[(df[\"item_cnt_day\"]>=0) & (df[\"item_cnt_day\"]<=q)]\n",
    "    df[\"date\"] = pd.to_datetime(df[\"date\"], format=\"%d.%m.%Y\")\n",
    "    return df\n",
    "\n",
    "def get_cartesian_product(train, items):\n",
    "    shop_list = train[\"shop_id\"].unique()\n",
    "    item_list = items[\"item_id\"].unique()\n",
    "    date_block_list = train[\"date_block_num\"].unique()\n",
    "    prod = pd.DataFrame(list(itertools.product(shop_list, item_list, date_block_list)),\n",
    "                        columns=[\"shop_id\", \"item_id\", \"date_block_num\"])\n",
    "    return prod\n",
    "\n",
    "def calc_sales_relate_summary(df):\n",
    "    if len(df) > 1:\n",
    "        shop_id = df[\"shop_id\"].values[0]\n",
    "        item_id = df[\"item_id\"].values[0]\n",
    "        date_block_num = df[\"date_block_num\"].values[0]\n",
    "        dates = df[\"date\"].sort_values()\n",
    "        # ref = dates[0]\n",
    "        # first_day = datetime.date(ref.year, ref.month, 1)\n",
    "        # dates = dates.append(first_day).sort_values()\n",
    "        item_cnt_day = df[\"item_cnt_day\"].values\n",
    "        prices = df[\"item_price\"].values\n",
    "        date_intervals = dates.diff(1).dropna().apply(lambda x: x.days)\n",
    "        # aggregation\n",
    "        total_sales = item_cnt_day.sum()\n",
    "        days_with_sales = len(dates)\n",
    "        avg_sales_per_day = total_sales / days_with_sales\n",
    "        avg_interval_per_sales = date_intervals.mean()\n",
    "        avg_price_per_sales = np.average(prices, weights=item_cnt_day)\n",
    "        data = {\"shop_id\":shop_id, \"item_id\":item_id,  \"date_block_num\": date_block_num,\n",
    "                \"days_with_sales\":days_with_sales, \"avg_sales_per_day\":avg_sales_per_day,\n",
    "                \"avg_interval_per_sales\":avg_interval_per_sales, \"avg_price_per_sales\":avg_price_per_sales}\n",
    "        return pd.DataFrame(data, index=[0])\n",
    "\n",
    "def get_month_sales_summary(df):\n",
    "    return df.groupby([\"shop_id\", \"item_id\", \"date_block_num\"], as_index=False)[\"item_cnt_day\"].\\\n",
    "                                agg({\"item_cnt_month\":\"sum\"})\n",
    "\n",
    "def get_sales_relate_summary(df):\n",
    "    return apply_parallel(df.groupby([\"shop_id\", \"item_id\", \"date_block_num\"], as_index=False), calc_sales_relate_summary)\n",
    "    \n",
    "def get_feature_header(prod, month_summary):\n",
    "    feature = prod.merge(month_summary, on=[\"shop_id\",\"item_id\",\"date_block_num\"], how=\"left\")\n",
    "    feature.fillna(0, inplace=True)\n",
    "    feature = feature[feature[\"date_block_num\"]>11]\n",
    "    return feature"
   ]
  },
  {
   "cell_type": "code",
   "execution_count": 5,
   "metadata": {},
   "outputs": [
    {
     "name": "stderr",
     "output_type": "stream",
     "text": [
      "C:\\Users\\DELL\\AppData\\Local\\Temp/ipykernel_6944/3423589298.py:9: SettingWithCopyWarning: \n",
      "A value is trying to be set on a copy of a slice from a DataFrame.\n",
      "Try using .loc[row_indexer,col_indexer] = value instead\n",
      "\n",
      "See the caveats in the documentation: https://pandas.pydata.org/pandas-docs/stable/user_guide/indexing.html#returning-a-view-versus-a-copy\n",
      "  df[\"date\"] = pd.to_datetime(df[\"date\"], format=\"%d.%m.%Y\").values\n",
      "100%|██████████| 1608182/1608182 [06:26<00:00, 4161.10it/s]\n"
     ]
    },
    {
     "data": {
      "text/plain": [
       "0"
      ]
     },
     "execution_count": 5,
     "metadata": {},
     "output_type": "execute_result"
    }
   ],
   "source": [
    "train = remove_outliers(train)\n",
    "prod = get_cartesian_product(train, items)\n",
    "month_sales_summary = get_month_sales_summary(train)\n",
    "month_sales_relate_summary = get_sales_relate_summary(train)\n",
    "train_header = get_feature_header(prod, month_sales_summary)\n",
    "del prod\n",
    "gc.collect()"
   ]
  },
  {
   "cell_type": "code",
   "execution_count": 6,
   "metadata": {},
   "outputs": [],
   "source": [
    "train_header.to_csv(\"data/train_header.csv\", index=False)\n",
    "month_sales_summary.to_csv(\"data/month_sales_summary.csv\", index=False)\n",
    "month_sales_relate_summary.to_csv(\"data/month_sales_relate_summary.csv\", index=False)"
   ]
  },
  {
   "cell_type": "markdown",
   "metadata": {},
   "source": [
    "## Stage 2"
   ]
  },
  {
   "cell_type": "code",
   "execution_count": 7,
   "metadata": {},
   "outputs": [],
   "source": [
    "# train_header = pd.read_csv(\"data/train_header.csv\")\n",
    "# train = remove_outliers(train)\n",
    "# month_sales_summary = pd.read_csv(\"data/month_sales_summary.csv\")\n",
    "# month_sales_relate_summary = pd.read_csv(\"data/month_sales_relate_summary.csv\")\n",
    "# lag features, we produce features of lag defined in lags\n",
    "def make_lag_feature(df, month_sales_summary, month_sales_relate_summary, lags):\n",
    "    tmp = df[[\"shop_id\", \"item_id\", \"date_block_num\"]]\n",
    "    for lag in lags:\n",
    "        tmp[\"date_block_num\"] -= lag\n",
    "        lag_sales = tmp.merge(month_sales_summary, on=[\"shop_id\", \"item_id\", \"date_block_num\"], how=\"left\").fillna(0)\n",
    "        lag_sales_relate = tmp.merge(month_sales_relate_summary, on=[\"shop_id\", \"item_id\", \"date_block_num\"], how=\"left\")\n",
    "        lag_sales_relate[\"avg_interval_per_sales\"].fillna(9999, inplace=True)\n",
    "        lag_sales_relate.fillna(0, inplace=True)\n",
    "        tmp[\"date_block_num\"] += lag\n",
    "        df[\"lag\"+str(lag)+\"_item_cnt\"] = lag_sales[\"item_cnt_month\"].values\n",
    "        relate_cols = lag_sales_relate.columns.difference(tmp.columns)\n",
    "        for col in relate_cols:\n",
    "            df[\"lag\"+str(lag)+\"_\"+col] = lag_sales_relate[col].values\n",
    "    return df"
   ]
  },
  {
   "cell_type": "code",
   "execution_count": 8,
   "metadata": {},
   "outputs": [],
   "source": [
    "# mean encoding\n",
    "def make_rolling_feature(df, summary, lags):\n",
    "    tmp = df[[\"shop_id\", \"item_id\", \"date_block_num\"]]\n",
    "    for lag in lags:\n",
    "        lag_features = []\n",
    "        for i in range(1, lag+1):\n",
    "            tmp[\"date_block_num\"] -= i\n",
    "            lag_feature = tmp.merge(summary, on=[\"shop_id\", \"item_id\", \"date_block_num\"], how=\"left\").fillna(0)\n",
    "            lag_features.append(lag_feature[\"item_cnt_month\"].values.reshape(-1, 1)) \n",
    "        tmp[\"date_block_num\"] += lag\n",
    "        lag_features = np.concatenate(lag_features, axis=1)\n",
    "        avg_weights = [np.exp(-0.2*j) for j in list(range(1, lag+1))]\n",
    "        lag_avg = np.average(lag_features, axis=1, weights=avg_weights)\n",
    "        # lag_std = np.std(lag_features, axis=1, ddof=1)\n",
    "        df[\"lag\"+str(lag)+\"_rolling_avg_item_cnt\"] = lag_avg\n",
    "        # df[\"lag\"+str(lag)+\"_rolling_std_item_cnt\"] = lag_std\n",
    "    return df"
   ]
  },
  {
   "cell_type": "code",
   "execution_count": 9,
   "metadata": {},
   "outputs": [],
   "source": [
    "def make_dataset(df, month_sales_summary, month_sales_relate_summary, items):\n",
    "    print(\"making lag features\")\n",
    "    df = make_lag_feature(df.copy(), month_sales_summary, month_sales_relate_summary, list(range(1, 13, 1)))\n",
    "    print(\"making rolling features\")\n",
    "    df = make_rolling_feature(df.copy(), month_sales_summary, [3, 6, 12])\n",
    "    df[\"month_of_year_sin\"] = np.sin(df[\"date_block_num\"]/12)\n",
    "    df[\"month_of_year_cos\"] = np.cos(df[\"date_block_num\"]/12)\n",
    "    for col in df.iloc[:, 3:].columns:\n",
    "        df[col] = df[col].astype(\"float16\")\n",
    "    for col in df.iloc[:, :3].columns:\n",
    "        df[col] = df[col].astype(\"int16\")\n",
    "    df = df.merge(items[[\"item_id\", \"item_category_id\"]], on=\"item_id\")\n",
    "    df[\"shop_id\"] = df[\"shop_id\"].astype(\"category\")\n",
    "    df[\"item_id\"] = df[\"item_id\"].astype(\"category\")\n",
    "    df[\"item_category_id\"] = df[\"item_category_id\"].astype(\"category\")\n",
    "    return df"
   ]
  },
  {
   "cell_type": "code",
   "execution_count": 10,
   "metadata": {},
   "outputs": [
    {
     "name": "stdout",
     "output_type": "stream",
     "text": [
      "making lag features\n"
     ]
    },
    {
     "name": "stderr",
     "output_type": "stream",
     "text": [
      "C:\\Users\\DELL\\AppData\\Local\\Temp/ipykernel_6944/694276064.py:9: SettingWithCopyWarning: \n",
      "A value is trying to be set on a copy of a slice from a DataFrame.\n",
      "Try using .loc[row_indexer,col_indexer] = value instead\n",
      "\n",
      "See the caveats in the documentation: https://pandas.pydata.org/pandas-docs/stable/user_guide/indexing.html#returning-a-view-versus-a-copy\n",
      "  tmp[\"date_block_num\"] -= lag\n",
      "C:\\Users\\DELL\\AppData\\Local\\Temp/ipykernel_6944/694276064.py:14: SettingWithCopyWarning: \n",
      "A value is trying to be set on a copy of a slice from a DataFrame.\n",
      "Try using .loc[row_indexer,col_indexer] = value instead\n",
      "\n",
      "See the caveats in the documentation: https://pandas.pydata.org/pandas-docs/stable/user_guide/indexing.html#returning-a-view-versus-a-copy\n",
      "  tmp[\"date_block_num\"] += lag\n"
     ]
    },
    {
     "name": "stdout",
     "output_type": "stream",
     "text": [
      "making rolling features\n"
     ]
    },
    {
     "ename": "MemoryError",
     "evalue": "Unable to allocate 13.3 GiB for an array with shape (61, 29264400) and data type float64",
     "output_type": "error",
     "traceback": [
      "\u001b[1;31m---------------------------------------------------------------------------\u001b[0m",
      "\u001b[1;31mMemoryError\u001b[0m                               Traceback (most recent call last)",
      "\u001b[1;32m~\\AppData\\Local\\Temp/ipykernel_6944/1259444904.py\u001b[0m in \u001b[0;36m<module>\u001b[1;34m\u001b[0m\n\u001b[1;32m----> 1\u001b[1;33m \u001b[0mfeature\u001b[0m \u001b[1;33m=\u001b[0m \u001b[0mmake_dataset\u001b[0m\u001b[1;33m(\u001b[0m\u001b[0mtrain_header\u001b[0m\u001b[1;33m,\u001b[0m \u001b[0mmonth_sales_summary\u001b[0m\u001b[1;33m,\u001b[0m \u001b[0mmonth_sales_relate_summary\u001b[0m\u001b[1;33m,\u001b[0m \u001b[0mitems\u001b[0m\u001b[1;33m)\u001b[0m\u001b[1;33m\u001b[0m\u001b[1;33m\u001b[0m\u001b[0m\n\u001b[0m\u001b[0;32m      2\u001b[0m \u001b[0mtest\u001b[0m\u001b[1;33m[\u001b[0m\u001b[1;34m\"date_block_num\"\u001b[0m\u001b[1;33m]\u001b[0m \u001b[1;33m=\u001b[0m \u001b[1;36m34\u001b[0m\u001b[1;33m\u001b[0m\u001b[1;33m\u001b[0m\u001b[0m\n\u001b[0;32m      3\u001b[0m \u001b[0mfeature_test\u001b[0m \u001b[1;33m=\u001b[0m \u001b[0mmake_dataset\u001b[0m\u001b[1;33m(\u001b[0m\u001b[0mtest\u001b[0m\u001b[1;33m,\u001b[0m \u001b[0mmonth_sales_summary\u001b[0m\u001b[1;33m,\u001b[0m \u001b[0mmonth_sales_relate_summary\u001b[0m\u001b[1;33m,\u001b[0m \u001b[0mitems\u001b[0m\u001b[1;33m)\u001b[0m\u001b[1;33m\u001b[0m\u001b[1;33m\u001b[0m\u001b[0m\n",
      "\u001b[1;32m~\\AppData\\Local\\Temp/ipykernel_6944/1449206134.py\u001b[0m in \u001b[0;36mmake_dataset\u001b[1;34m(df, month_sales_summary, month_sales_relate_summary, items)\u001b[0m\n\u001b[0;32m      3\u001b[0m     \u001b[0mdf\u001b[0m \u001b[1;33m=\u001b[0m \u001b[0mmake_lag_feature\u001b[0m\u001b[1;33m(\u001b[0m\u001b[0mdf\u001b[0m\u001b[1;33m.\u001b[0m\u001b[0mcopy\u001b[0m\u001b[1;33m(\u001b[0m\u001b[1;33m)\u001b[0m\u001b[1;33m,\u001b[0m \u001b[0mmonth_sales_summary\u001b[0m\u001b[1;33m,\u001b[0m \u001b[0mmonth_sales_relate_summary\u001b[0m\u001b[1;33m,\u001b[0m \u001b[0mlist\u001b[0m\u001b[1;33m(\u001b[0m\u001b[0mrange\u001b[0m\u001b[1;33m(\u001b[0m\u001b[1;36m1\u001b[0m\u001b[1;33m,\u001b[0m \u001b[1;36m13\u001b[0m\u001b[1;33m,\u001b[0m \u001b[1;36m1\u001b[0m\u001b[1;33m)\u001b[0m\u001b[1;33m)\u001b[0m\u001b[1;33m)\u001b[0m\u001b[1;33m\u001b[0m\u001b[1;33m\u001b[0m\u001b[0m\n\u001b[0;32m      4\u001b[0m     \u001b[0mprint\u001b[0m\u001b[1;33m(\u001b[0m\u001b[1;34m\"making rolling features\"\u001b[0m\u001b[1;33m)\u001b[0m\u001b[1;33m\u001b[0m\u001b[1;33m\u001b[0m\u001b[0m\n\u001b[1;32m----> 5\u001b[1;33m     \u001b[0mdf\u001b[0m \u001b[1;33m=\u001b[0m \u001b[0mmake_rolling_feature\u001b[0m\u001b[1;33m(\u001b[0m\u001b[0mdf\u001b[0m\u001b[1;33m.\u001b[0m\u001b[0mcopy\u001b[0m\u001b[1;33m(\u001b[0m\u001b[1;33m)\u001b[0m\u001b[1;33m,\u001b[0m \u001b[0mmonth_sales_summary\u001b[0m\u001b[1;33m,\u001b[0m \u001b[1;33m[\u001b[0m\u001b[1;36m3\u001b[0m\u001b[1;33m,\u001b[0m \u001b[1;36m6\u001b[0m\u001b[1;33m,\u001b[0m \u001b[1;36m12\u001b[0m\u001b[1;33m]\u001b[0m\u001b[1;33m)\u001b[0m\u001b[1;33m\u001b[0m\u001b[1;33m\u001b[0m\u001b[0m\n\u001b[0m\u001b[0;32m      6\u001b[0m     \u001b[0mdf\u001b[0m\u001b[1;33m[\u001b[0m\u001b[1;34m\"month_of_year_sin\"\u001b[0m\u001b[1;33m]\u001b[0m \u001b[1;33m=\u001b[0m \u001b[0mnp\u001b[0m\u001b[1;33m.\u001b[0m\u001b[0msin\u001b[0m\u001b[1;33m(\u001b[0m\u001b[0mdf\u001b[0m\u001b[1;33m[\u001b[0m\u001b[1;34m\"date_block_num\"\u001b[0m\u001b[1;33m]\u001b[0m\u001b[1;33m/\u001b[0m\u001b[1;36m12\u001b[0m\u001b[1;33m)\u001b[0m\u001b[1;33m\u001b[0m\u001b[1;33m\u001b[0m\u001b[0m\n\u001b[0;32m      7\u001b[0m     \u001b[0mdf\u001b[0m\u001b[1;33m[\u001b[0m\u001b[1;34m\"month_of_year_cos\"\u001b[0m\u001b[1;33m]\u001b[0m \u001b[1;33m=\u001b[0m \u001b[0mnp\u001b[0m\u001b[1;33m.\u001b[0m\u001b[0mcos\u001b[0m\u001b[1;33m(\u001b[0m\u001b[0mdf\u001b[0m\u001b[1;33m[\u001b[0m\u001b[1;34m\"date_block_num\"\u001b[0m\u001b[1;33m]\u001b[0m\u001b[1;33m/\u001b[0m\u001b[1;36m12\u001b[0m\u001b[1;33m)\u001b[0m\u001b[1;33m\u001b[0m\u001b[1;33m\u001b[0m\u001b[0m\n",
      "\u001b[1;32mC:\\Python39\\lib\\site-packages\\pandas\\core\\generic.py\u001b[0m in \u001b[0;36mcopy\u001b[1;34m(self, deep)\u001b[0m\n\u001b[0;32m   5931\u001b[0m         \u001b[0mdtype\u001b[0m\u001b[1;33m:\u001b[0m \u001b[0mobject\u001b[0m\u001b[1;33m\u001b[0m\u001b[1;33m\u001b[0m\u001b[0m\n\u001b[0;32m   5932\u001b[0m         \"\"\"\n\u001b[1;32m-> 5933\u001b[1;33m         \u001b[0mdata\u001b[0m \u001b[1;33m=\u001b[0m \u001b[0mself\u001b[0m\u001b[1;33m.\u001b[0m\u001b[0m_mgr\u001b[0m\u001b[1;33m.\u001b[0m\u001b[0mcopy\u001b[0m\u001b[1;33m(\u001b[0m\u001b[0mdeep\u001b[0m\u001b[1;33m=\u001b[0m\u001b[0mdeep\u001b[0m\u001b[1;33m)\u001b[0m\u001b[1;33m\u001b[0m\u001b[1;33m\u001b[0m\u001b[0m\n\u001b[0m\u001b[0;32m   5934\u001b[0m         \u001b[0mself\u001b[0m\u001b[1;33m.\u001b[0m\u001b[0m_clear_item_cache\u001b[0m\u001b[1;33m(\u001b[0m\u001b[1;33m)\u001b[0m\u001b[1;33m\u001b[0m\u001b[1;33m\u001b[0m\u001b[0m\n\u001b[0;32m   5935\u001b[0m         \u001b[1;32mreturn\u001b[0m \u001b[0mself\u001b[0m\u001b[1;33m.\u001b[0m\u001b[0m_constructor\u001b[0m\u001b[1;33m(\u001b[0m\u001b[0mdata\u001b[0m\u001b[1;33m)\u001b[0m\u001b[1;33m.\u001b[0m\u001b[0m__finalize__\u001b[0m\u001b[1;33m(\u001b[0m\u001b[0mself\u001b[0m\u001b[1;33m,\u001b[0m \u001b[0mmethod\u001b[0m\u001b[1;33m=\u001b[0m\u001b[1;34m\"copy\"\u001b[0m\u001b[1;33m)\u001b[0m\u001b[1;33m\u001b[0m\u001b[1;33m\u001b[0m\u001b[0m\n",
      "\u001b[1;32mC:\\Python39\\lib\\site-packages\\pandas\\core\\internals\\managers.py\u001b[0m in \u001b[0;36mcopy\u001b[1;34m(self, deep)\u001b[0m\n\u001b[0;32m    601\u001b[0m \u001b[1;33m\u001b[0m\u001b[0m\n\u001b[0;32m    602\u001b[0m         \u001b[1;32mif\u001b[0m \u001b[0mdeep\u001b[0m\u001b[1;33m:\u001b[0m\u001b[1;33m\u001b[0m\u001b[1;33m\u001b[0m\u001b[0m\n\u001b[1;32m--> 603\u001b[1;33m             \u001b[0mres\u001b[0m\u001b[1;33m.\u001b[0m\u001b[0m_consolidate_inplace\u001b[0m\u001b[1;33m(\u001b[0m\u001b[1;33m)\u001b[0m\u001b[1;33m\u001b[0m\u001b[1;33m\u001b[0m\u001b[0m\n\u001b[0m\u001b[0;32m    604\u001b[0m         \u001b[1;32mreturn\u001b[0m \u001b[0mres\u001b[0m\u001b[1;33m\u001b[0m\u001b[1;33m\u001b[0m\u001b[0m\n\u001b[0;32m    605\u001b[0m \u001b[1;33m\u001b[0m\u001b[0m\n",
      "\u001b[1;32mC:\\Python39\\lib\\site-packages\\pandas\\core\\internals\\managers.py\u001b[0m in \u001b[0;36m_consolidate_inplace\u001b[1;34m(self)\u001b[0m\n\u001b[0;32m    622\u001b[0m     \u001b[1;32mdef\u001b[0m \u001b[0m_consolidate_inplace\u001b[0m\u001b[1;33m(\u001b[0m\u001b[0mself\u001b[0m\u001b[1;33m)\u001b[0m \u001b[1;33m->\u001b[0m \u001b[1;32mNone\u001b[0m\u001b[1;33m:\u001b[0m\u001b[1;33m\u001b[0m\u001b[1;33m\u001b[0m\u001b[0m\n\u001b[0;32m    623\u001b[0m         \u001b[1;32mif\u001b[0m \u001b[1;32mnot\u001b[0m \u001b[0mself\u001b[0m\u001b[1;33m.\u001b[0m\u001b[0mis_consolidated\u001b[0m\u001b[1;33m(\u001b[0m\u001b[1;33m)\u001b[0m\u001b[1;33m:\u001b[0m\u001b[1;33m\u001b[0m\u001b[1;33m\u001b[0m\u001b[0m\n\u001b[1;32m--> 624\u001b[1;33m             \u001b[0mself\u001b[0m\u001b[1;33m.\u001b[0m\u001b[0mblocks\u001b[0m \u001b[1;33m=\u001b[0m \u001b[0mtuple\u001b[0m\u001b[1;33m(\u001b[0m\u001b[0m_consolidate\u001b[0m\u001b[1;33m(\u001b[0m\u001b[0mself\u001b[0m\u001b[1;33m.\u001b[0m\u001b[0mblocks\u001b[0m\u001b[1;33m)\u001b[0m\u001b[1;33m)\u001b[0m\u001b[1;33m\u001b[0m\u001b[1;33m\u001b[0m\u001b[0m\n\u001b[0m\u001b[0;32m    625\u001b[0m             \u001b[0mself\u001b[0m\u001b[1;33m.\u001b[0m\u001b[0m_is_consolidated\u001b[0m \u001b[1;33m=\u001b[0m \u001b[1;32mTrue\u001b[0m\u001b[1;33m\u001b[0m\u001b[1;33m\u001b[0m\u001b[0m\n\u001b[0;32m    626\u001b[0m             \u001b[0mself\u001b[0m\u001b[1;33m.\u001b[0m\u001b[0m_known_consolidated\u001b[0m \u001b[1;33m=\u001b[0m \u001b[1;32mTrue\u001b[0m\u001b[1;33m\u001b[0m\u001b[1;33m\u001b[0m\u001b[0m\n",
      "\u001b[1;32mC:\\Python39\\lib\\site-packages\\pandas\\core\\internals\\managers.py\u001b[0m in \u001b[0;36m_consolidate\u001b[1;34m(blocks)\u001b[0m\n\u001b[0;32m   1972\u001b[0m     \u001b[0mnew_blocks\u001b[0m\u001b[1;33m:\u001b[0m \u001b[0mlist\u001b[0m\u001b[1;33m[\u001b[0m\u001b[0mBlock\u001b[0m\u001b[1;33m]\u001b[0m \u001b[1;33m=\u001b[0m \u001b[1;33m[\u001b[0m\u001b[1;33m]\u001b[0m\u001b[1;33m\u001b[0m\u001b[1;33m\u001b[0m\u001b[0m\n\u001b[0;32m   1973\u001b[0m     \u001b[1;32mfor\u001b[0m \u001b[1;33m(\u001b[0m\u001b[0m_can_consolidate\u001b[0m\u001b[1;33m,\u001b[0m \u001b[0mdtype\u001b[0m\u001b[1;33m)\u001b[0m\u001b[1;33m,\u001b[0m \u001b[0mgroup_blocks\u001b[0m \u001b[1;32min\u001b[0m \u001b[0mgrouper\u001b[0m\u001b[1;33m:\u001b[0m\u001b[1;33m\u001b[0m\u001b[1;33m\u001b[0m\u001b[0m\n\u001b[1;32m-> 1974\u001b[1;33m         merged_blocks = _merge_blocks(\n\u001b[0m\u001b[0;32m   1975\u001b[0m             \u001b[0mlist\u001b[0m\u001b[1;33m(\u001b[0m\u001b[0mgroup_blocks\u001b[0m\u001b[1;33m)\u001b[0m\u001b[1;33m,\u001b[0m \u001b[0mdtype\u001b[0m\u001b[1;33m=\u001b[0m\u001b[0mdtype\u001b[0m\u001b[1;33m,\u001b[0m \u001b[0mcan_consolidate\u001b[0m\u001b[1;33m=\u001b[0m\u001b[0m_can_consolidate\u001b[0m\u001b[1;33m\u001b[0m\u001b[1;33m\u001b[0m\u001b[0m\n\u001b[0;32m   1976\u001b[0m         )\n",
      "\u001b[1;32mC:\\Python39\\lib\\site-packages\\pandas\\core\\internals\\managers.py\u001b[0m in \u001b[0;36m_merge_blocks\u001b[1;34m(blocks, dtype, can_consolidate)\u001b[0m\n\u001b[0;32m   1999\u001b[0m             \u001b[1;31m# Sequence[Union[int, float, complex, str, bytes, generic]],\u001b[0m\u001b[1;33m\u001b[0m\u001b[1;33m\u001b[0m\u001b[1;33m\u001b[0m\u001b[0m\n\u001b[0;32m   2000\u001b[0m             \u001b[1;31m# Sequence[Sequence[Any]], SupportsArray]]\u001b[0m\u001b[1;33m\u001b[0m\u001b[1;33m\u001b[0m\u001b[1;33m\u001b[0m\u001b[0m\n\u001b[1;32m-> 2001\u001b[1;33m             \u001b[0mnew_values\u001b[0m \u001b[1;33m=\u001b[0m \u001b[0mnp\u001b[0m\u001b[1;33m.\u001b[0m\u001b[0mvstack\u001b[0m\u001b[1;33m(\u001b[0m\u001b[1;33m[\u001b[0m\u001b[0mb\u001b[0m\u001b[1;33m.\u001b[0m\u001b[0mvalues\u001b[0m \u001b[1;32mfor\u001b[0m \u001b[0mb\u001b[0m \u001b[1;32min\u001b[0m \u001b[0mblocks\u001b[0m\u001b[1;33m]\u001b[0m\u001b[1;33m)\u001b[0m  \u001b[1;31m# type: ignore[misc]\u001b[0m\u001b[1;33m\u001b[0m\u001b[1;33m\u001b[0m\u001b[0m\n\u001b[0m\u001b[0;32m   2002\u001b[0m         \u001b[1;32melse\u001b[0m\u001b[1;33m:\u001b[0m\u001b[1;33m\u001b[0m\u001b[1;33m\u001b[0m\u001b[0m\n\u001b[0;32m   2003\u001b[0m             \u001b[0mbvals\u001b[0m \u001b[1;33m=\u001b[0m \u001b[1;33m[\u001b[0m\u001b[0mblk\u001b[0m\u001b[1;33m.\u001b[0m\u001b[0mvalues\u001b[0m \u001b[1;32mfor\u001b[0m \u001b[0mblk\u001b[0m \u001b[1;32min\u001b[0m \u001b[0mblocks\u001b[0m\u001b[1;33m]\u001b[0m\u001b[1;33m\u001b[0m\u001b[1;33m\u001b[0m\u001b[0m\n",
      "\u001b[1;32m<__array_function__ internals>\u001b[0m in \u001b[0;36mvstack\u001b[1;34m(*args, **kwargs)\u001b[0m\n",
      "\u001b[1;32mC:\\Python39\\lib\\site-packages\\numpy\\core\\shape_base.py\u001b[0m in \u001b[0;36mvstack\u001b[1;34m(tup)\u001b[0m\n\u001b[0;32m    281\u001b[0m     \u001b[1;32mif\u001b[0m \u001b[1;32mnot\u001b[0m \u001b[0misinstance\u001b[0m\u001b[1;33m(\u001b[0m\u001b[0marrs\u001b[0m\u001b[1;33m,\u001b[0m \u001b[0mlist\u001b[0m\u001b[1;33m)\u001b[0m\u001b[1;33m:\u001b[0m\u001b[1;33m\u001b[0m\u001b[1;33m\u001b[0m\u001b[0m\n\u001b[0;32m    282\u001b[0m         \u001b[0marrs\u001b[0m \u001b[1;33m=\u001b[0m \u001b[1;33m[\u001b[0m\u001b[0marrs\u001b[0m\u001b[1;33m]\u001b[0m\u001b[1;33m\u001b[0m\u001b[1;33m\u001b[0m\u001b[0m\n\u001b[1;32m--> 283\u001b[1;33m     \u001b[1;32mreturn\u001b[0m \u001b[0m_nx\u001b[0m\u001b[1;33m.\u001b[0m\u001b[0mconcatenate\u001b[0m\u001b[1;33m(\u001b[0m\u001b[0marrs\u001b[0m\u001b[1;33m,\u001b[0m \u001b[1;36m0\u001b[0m\u001b[1;33m)\u001b[0m\u001b[1;33m\u001b[0m\u001b[1;33m\u001b[0m\u001b[0m\n\u001b[0m\u001b[0;32m    284\u001b[0m \u001b[1;33m\u001b[0m\u001b[0m\n\u001b[0;32m    285\u001b[0m \u001b[1;33m\u001b[0m\u001b[0m\n",
      "\u001b[1;32m<__array_function__ internals>\u001b[0m in \u001b[0;36mconcatenate\u001b[1;34m(*args, **kwargs)\u001b[0m\n",
      "\u001b[1;31mMemoryError\u001b[0m: Unable to allocate 13.3 GiB for an array with shape (61, 29264400) and data type float64"
     ]
    }
   ],
   "source": [
    "feature = make_dataset(train_header, month_sales_summary, month_sales_relate_summary, items)\n",
    "test[\"date_block_num\"] = 34\n",
    "feature_test = make_dataset(test, month_sales_summary, month_sales_relate_summary, items)"
   ]
  },
  {
   "cell_type": "code",
   "execution_count": 9,
   "metadata": {},
   "outputs": [],
   "source": [
    "X_train, X_dev = feature[feature[\"date_block_num\"]<=32].drop([\"item_cnt_month\", \"date_block_num\"], axis=1),\\\n",
    "                feature[feature[\"date_block_num\"]>32].drop([\"item_cnt_month\", \"date_block_num\"], axis=1)\n",
    "y_train, y_dev = feature.loc[feature[\"date_block_num\"]<=32, \"item_cnt_month\"],\\\n",
    "    feature.loc[feature[\"date_block_num\"]>32, \"item_cnt_month\"]\n",
    "y_train, y_dev = np.clip(y_train, 0, 20), np.clip(y_dev, 0, 20)\n",
    "X_test = feature_test.drop(\"date_block_num\", axis=1).iloc[:, 1:]"
   ]
  },
  {
   "cell_type": "code",
   "execution_count": 13,
   "metadata": {},
   "outputs": [
    {
     "name": "stderr",
     "output_type": "stream",
     "text": [
      "C:\\Users\\DangXuan\\AppData\\Roaming\\Python\\Python37\\site-packages\\lightgbm\\sklearn.py:726: UserWarning: 'early_stopping_rounds' argument is deprecated and will be removed in a future release of LightGBM. Pass 'early_stopping()' callback via 'callbacks' argument instead.\n",
      "  _log_warning(\"'early_stopping_rounds' argument is deprecated and will be removed in a future release of LightGBM. \"\n",
      "C:\\Users\\DangXuan\\AppData\\Roaming\\Python\\Python37\\site-packages\\lightgbm\\basic.py:1780: UserWarning: Overriding the parameters from Reference Dataset.\n",
      "  _log_warning('Overriding the parameters from Reference Dataset.')\n",
      "C:\\Users\\DangXuan\\AppData\\Roaming\\Python\\Python37\\site-packages\\lightgbm\\basic.py:1513: UserWarning: categorical_column in param dict is overridden.\n",
      "  _log_warning(f'{cat_alias} in param dict is overridden.')\n"
     ]
    },
    {
     "name": "stdout",
     "output_type": "stream",
     "text": [
      "[1]\tvalid_0's rmse: 0.484498\tvalid_0's l2: 0.234738\n",
      "[2]\tvalid_0's rmse: 0.480564\tvalid_0's l2: 0.230941\n",
      "[3]\tvalid_0's rmse: 0.476828\tvalid_0's l2: 0.227365\n",
      "[4]\tvalid_0's rmse: 0.473324\tvalid_0's l2: 0.224036\n",
      "[5]\tvalid_0's rmse: 0.470224\tvalid_0's l2: 0.22111\n",
      "[6]\tvalid_0's rmse: 0.467218\tvalid_0's l2: 0.218293\n",
      "[7]\tvalid_0's rmse: 0.464204\tvalid_0's l2: 0.215486\n",
      "[8]\tvalid_0's rmse: 0.461674\tvalid_0's l2: 0.213143\n",
      "[9]\tvalid_0's rmse: 0.459\tvalid_0's l2: 0.210681\n",
      "[10]\tvalid_0's rmse: 0.45675\tvalid_0's l2: 0.208621\n",
      "[11]\tvalid_0's rmse: 0.454352\tvalid_0's l2: 0.206436\n",
      "[12]\tvalid_0's rmse: 0.452176\tvalid_0's l2: 0.204463\n",
      "[13]\tvalid_0's rmse: 0.45002\tvalid_0's l2: 0.202518\n",
      "[14]\tvalid_0's rmse: 0.448244\tvalid_0's l2: 0.200923\n",
      "[15]\tvalid_0's rmse: 0.446314\tvalid_0's l2: 0.199196\n",
      "[16]\tvalid_0's rmse: 0.444593\tvalid_0's l2: 0.197663\n",
      "[17]\tvalid_0's rmse: 0.442895\tvalid_0's l2: 0.196156\n",
      "[18]\tvalid_0's rmse: 0.44128\tvalid_0's l2: 0.194728\n",
      "[19]\tvalid_0's rmse: 0.439907\tvalid_0's l2: 0.193518\n",
      "[20]\tvalid_0's rmse: 0.438454\tvalid_0's l2: 0.192242\n",
      "[21]\tvalid_0's rmse: 0.437232\tvalid_0's l2: 0.191171\n",
      "[22]\tvalid_0's rmse: 0.436026\tvalid_0's l2: 0.190118\n",
      "[23]\tvalid_0's rmse: 0.43485\tvalid_0's l2: 0.189095\n",
      "[24]\tvalid_0's rmse: 0.433778\tvalid_0's l2: 0.188163\n",
      "[25]\tvalid_0's rmse: 0.432823\tvalid_0's l2: 0.187336\n",
      "[26]\tvalid_0's rmse: 0.431814\tvalid_0's l2: 0.186463\n",
      "[27]\tvalid_0's rmse: 0.430873\tvalid_0's l2: 0.185651\n",
      "[28]\tvalid_0's rmse: 0.429974\tvalid_0's l2: 0.184877\n",
      "[29]\tvalid_0's rmse: 0.429208\tvalid_0's l2: 0.18422\n",
      "[30]\tvalid_0's rmse: 0.428405\tvalid_0's l2: 0.183531\n",
      "[31]\tvalid_0's rmse: 0.427662\tvalid_0's l2: 0.182895\n",
      "[32]\tvalid_0's rmse: 0.426954\tvalid_0's l2: 0.18229\n",
      "[33]\tvalid_0's rmse: 0.426221\tvalid_0's l2: 0.181665\n",
      "[34]\tvalid_0's rmse: 0.425589\tvalid_0's l2: 0.181126\n",
      "[35]\tvalid_0's rmse: 0.424993\tvalid_0's l2: 0.180619\n",
      "[36]\tvalid_0's rmse: 0.424486\tvalid_0's l2: 0.180188\n",
      "[37]\tvalid_0's rmse: 0.423925\tvalid_0's l2: 0.179712\n",
      "[38]\tvalid_0's rmse: 0.423396\tvalid_0's l2: 0.179264\n",
      "[39]\tvalid_0's rmse: 0.422918\tvalid_0's l2: 0.17886\n",
      "[40]\tvalid_0's rmse: 0.422401\tvalid_0's l2: 0.178423\n",
      "[41]\tvalid_0's rmse: 0.422011\tvalid_0's l2: 0.178093\n",
      "[42]\tvalid_0's rmse: 0.421553\tvalid_0's l2: 0.177707\n",
      "[43]\tvalid_0's rmse: 0.421203\tvalid_0's l2: 0.177412\n",
      "[44]\tvalid_0's rmse: 0.420876\tvalid_0's l2: 0.177136\n",
      "[45]\tvalid_0's rmse: 0.420577\tvalid_0's l2: 0.176885\n",
      "[46]\tvalid_0's rmse: 0.420264\tvalid_0's l2: 0.176622\n",
      "[47]\tvalid_0's rmse: 0.42002\tvalid_0's l2: 0.176417\n",
      "[48]\tvalid_0's rmse: 0.419681\tvalid_0's l2: 0.176132\n",
      "[49]\tvalid_0's rmse: 0.41946\tvalid_0's l2: 0.175946\n",
      "[50]\tvalid_0's rmse: 0.41923\tvalid_0's l2: 0.175754\n",
      "[51]\tvalid_0's rmse: 0.419032\tvalid_0's l2: 0.175588\n",
      "[52]\tvalid_0's rmse: 0.41883\tvalid_0's l2: 0.175418\n",
      "[53]\tvalid_0's rmse: 0.418578\tvalid_0's l2: 0.175208\n",
      "[54]\tvalid_0's rmse: 0.418343\tvalid_0's l2: 0.175011\n",
      "[55]\tvalid_0's rmse: 0.418217\tvalid_0's l2: 0.174905\n",
      "[56]\tvalid_0's rmse: 0.418031\tvalid_0's l2: 0.17475\n",
      "[57]\tvalid_0's rmse: 0.417935\tvalid_0's l2: 0.17467\n",
      "[58]\tvalid_0's rmse: 0.417801\tvalid_0's l2: 0.174557\n",
      "[59]\tvalid_0's rmse: 0.417617\tvalid_0's l2: 0.174404\n",
      "[60]\tvalid_0's rmse: 0.417528\tvalid_0's l2: 0.17433\n",
      "[61]\tvalid_0's rmse: 0.417585\tvalid_0's l2: 0.174377\n",
      "[62]\tvalid_0's rmse: 0.417498\tvalid_0's l2: 0.174305\n",
      "[63]\tvalid_0's rmse: 0.417406\tvalid_0's l2: 0.174227\n",
      "[64]\tvalid_0's rmse: 0.417308\tvalid_0's l2: 0.174146\n",
      "[65]\tvalid_0's rmse: 0.417243\tvalid_0's l2: 0.174092\n",
      "[66]\tvalid_0's rmse: 0.41716\tvalid_0's l2: 0.174023\n",
      "[67]\tvalid_0's rmse: 0.417092\tvalid_0's l2: 0.173966\n",
      "[68]\tvalid_0's rmse: 0.417021\tvalid_0's l2: 0.173907\n",
      "[69]\tvalid_0's rmse: 0.4169\tvalid_0's l2: 0.173806\n",
      "[70]\tvalid_0's rmse: 0.416844\tvalid_0's l2: 0.173759\n",
      "[71]\tvalid_0's rmse: 0.416856\tvalid_0's l2: 0.173769\n",
      "[72]\tvalid_0's rmse: 0.41678\tvalid_0's l2: 0.173705\n",
      "[73]\tvalid_0's rmse: 0.416727\tvalid_0's l2: 0.173662\n",
      "[74]\tvalid_0's rmse: 0.416671\tvalid_0's l2: 0.173614\n",
      "[75]\tvalid_0's rmse: 0.416582\tvalid_0's l2: 0.17354\n",
      "[76]\tvalid_0's rmse: 0.416462\tvalid_0's l2: 0.17344\n",
      "[77]\tvalid_0's rmse: 0.416454\tvalid_0's l2: 0.173434\n",
      "[78]\tvalid_0's rmse: 0.416506\tvalid_0's l2: 0.173477\n",
      "[79]\tvalid_0's rmse: 0.416483\tvalid_0's l2: 0.173458\n",
      "[80]\tvalid_0's rmse: 0.416562\tvalid_0's l2: 0.173524\n",
      "[81]\tvalid_0's rmse: 0.416522\tvalid_0's l2: 0.17349\n",
      "[82]\tvalid_0's rmse: 0.416541\tvalid_0's l2: 0.173506\n",
      "[83]\tvalid_0's rmse: 0.416549\tvalid_0's l2: 0.173513\n",
      "[84]\tvalid_0's rmse: 0.416543\tvalid_0's l2: 0.173508\n",
      "[85]\tvalid_0's rmse: 0.416625\tvalid_0's l2: 0.173576\n",
      "[86]\tvalid_0's rmse: 0.416605\tvalid_0's l2: 0.173559\n",
      "[87]\tvalid_0's rmse: 0.416635\tvalid_0's l2: 0.173584\n",
      "[88]\tvalid_0's rmse: 0.416665\tvalid_0's l2: 0.173609\n",
      "[89]\tvalid_0's rmse: 0.41663\tvalid_0's l2: 0.17358\n",
      "[90]\tvalid_0's rmse: 0.416573\tvalid_0's l2: 0.173533\n",
      "[91]\tvalid_0's rmse: 0.416693\tvalid_0's l2: 0.173633\n",
      "[92]\tvalid_0's rmse: 0.416779\tvalid_0's l2: 0.173705\n",
      "[93]\tvalid_0's rmse: 0.416816\tvalid_0's l2: 0.173735\n",
      "[94]\tvalid_0's rmse: 0.416799\tvalid_0's l2: 0.173721\n",
      "[95]\tvalid_0's rmse: 0.416796\tvalid_0's l2: 0.173719\n",
      "[96]\tvalid_0's rmse: 0.416781\tvalid_0's l2: 0.173706\n",
      "[97]\tvalid_0's rmse: 0.416768\tvalid_0's l2: 0.173695\n",
      "[98]\tvalid_0's rmse: 0.416779\tvalid_0's l2: 0.173705\n",
      "[99]\tvalid_0's rmse: 0.416759\tvalid_0's l2: 0.173688\n",
      "[100]\tvalid_0's rmse: 0.416731\tvalid_0's l2: 0.173665\n",
      "[101]\tvalid_0's rmse: 0.416713\tvalid_0's l2: 0.17365\n",
      "[102]\tvalid_0's rmse: 0.416706\tvalid_0's l2: 0.173644\n",
      "[103]\tvalid_0's rmse: 0.416653\tvalid_0's l2: 0.173599\n",
      "[104]\tvalid_0's rmse: 0.41665\tvalid_0's l2: 0.173598\n",
      "[105]\tvalid_0's rmse: 0.41665\tvalid_0's l2: 0.173597\n",
      "[106]\tvalid_0's rmse: 0.416739\tvalid_0's l2: 0.173672\n",
      "[107]\tvalid_0's rmse: 0.416698\tvalid_0's l2: 0.173637\n",
      "[108]\tvalid_0's rmse: 0.416675\tvalid_0's l2: 0.173618\n",
      "[109]\tvalid_0's rmse: 0.416676\tvalid_0's l2: 0.173619\n",
      "[110]\tvalid_0's rmse: 0.416665\tvalid_0's l2: 0.17361\n",
      "[111]\tvalid_0's rmse: 0.416643\tvalid_0's l2: 0.173591\n",
      "[112]\tvalid_0's rmse: 0.416624\tvalid_0's l2: 0.173576\n",
      "[113]\tvalid_0's rmse: 0.416698\tvalid_0's l2: 0.173637\n",
      "[114]\tvalid_0's rmse: 0.416711\tvalid_0's l2: 0.173648\n",
      "[115]\tvalid_0's rmse: 0.416691\tvalid_0's l2: 0.173631\n",
      "[116]\tvalid_0's rmse: 0.416644\tvalid_0's l2: 0.173593\n",
      "[117]\tvalid_0's rmse: 0.41663\tvalid_0's l2: 0.173581\n",
      "[118]\tvalid_0's rmse: 0.416609\tvalid_0's l2: 0.173563\n",
      "[119]\tvalid_0's rmse: 0.416611\tvalid_0's l2: 0.173564\n",
      "[120]\tvalid_0's rmse: 0.41659\tvalid_0's l2: 0.173547\n",
      "[121]\tvalid_0's rmse: 0.416548\tvalid_0's l2: 0.173512\n",
      "[122]\tvalid_0's rmse: 0.416517\tvalid_0's l2: 0.173486\n",
      "[123]\tvalid_0's rmse: 0.4165\tvalid_0's l2: 0.173473\n",
      "[124]\tvalid_0's rmse: 0.416529\tvalid_0's l2: 0.173497\n",
      "[125]\tvalid_0's rmse: 0.416519\tvalid_0's l2: 0.173488\n",
      "[126]\tvalid_0's rmse: 0.416528\tvalid_0's l2: 0.173496\n",
      "[127]\tvalid_0's rmse: 0.416507\tvalid_0's l2: 0.173478\n"
     ]
    },
    {
     "data": {
      "text/plain": [
       "LGBMRegressor(colsample_bytree=0.7, learning_rate=0.03, max_depth=4,\n",
       "              min_child_weight=100, n_estimators=500, num_leaves=15,\n",
       "              reg_alpha=0.5, reg_lambda=0.3, subsample=0.7)"
      ]
     },
     "execution_count": 13,
     "metadata": {},
     "output_type": "execute_result"
    }
   ],
   "source": [
    "early_stop = lgb.callback.early_stopping(50)\n",
    "log_eval = lgb.callback.log_evaluation(5)\n",
    "model = lgb.LGBMRegressor(num_leaves=15, max_depth=4, learning_rate=0.1, subsample=0.7, colsample_bytree=0.7,\n",
    "                            min_child_weight=100, reg_alpha=0.8, reg_lambda=0.8, n_estimators=1000)\n",
    "model.fit(X_train, y_train, eval_set=[(X_train, y_train), (X_dev, y_dev)], eval_metric=\"rmse\", callbacks=[early_stop, log_eval])"
   ]
  },
  {
   "cell_type": "code",
   "execution_count": 14,
   "metadata": {},
   "outputs": [
    {
     "data": {
      "text/plain": [
       "<AxesSubplot:title={'center':'Feature importance'}, xlabel='Feature importance', ylabel='Features'>"
      ]
     },
     "execution_count": 14,
     "metadata": {},
     "output_type": "execute_result"
    },
    {
     "data": {
      "image/png": "[encoded data removed]",
      "text/plain": [
       "<Figure size 864x864 with 1 Axes>"
      ]
     },
     "metadata": {
      "needs_background": "light"
     },
     "output_type": "display_data"
    }
   ],
   "source": [
    "lgb.plot_importance(model, figsize=(12, 12))"
   ]
  },
  {
   "cell_type": "code",
   "execution_count": 23,
   "metadata": {},
   "outputs": [
    {
     "name": "stdout",
     "output_type": "stream",
     "text": [
      "<class 'pandas.core.frame.DataFrame'>\n",
      "Int64Index: 214200 entries, 0 to 214199\n",
      "Data columns (total 20 columns):\n",
      " #   Column                      Non-Null Count   Dtype   \n",
      "---  ------                      --------------   -----   \n",
      " 0   shop_id                     214200 non-null  category\n",
      " 1   item_id                     214200 non-null  category\n",
      " 2   lag1_item_cnt               214200 non-null  float16 \n",
      " 3   lag2_item_cnt               214200 non-null  float16 \n",
      " 4   lag3_item_cnt               214200 non-null  float16 \n",
      " 5   lag4_item_cnt               214200 non-null  float16 \n",
      " 6   lag5_item_cnt               214200 non-null  float16 \n",
      " 7   lag6_item_cnt               214200 non-null  float16 \n",
      " 8   lag7_item_cnt               214200 non-null  float16 \n",
      " 9   lag8_item_cnt               214200 non-null  float16 \n",
      " 10  lag9_item_cnt               214200 non-null  float16 \n",
      " 11  lag10_item_cnt              214200 non-null  float16 \n",
      " 12  lag11_item_cnt              214200 non-null  float16 \n",
      " 13  lag12_item_cnt              214200 non-null  float16 \n",
      " 14  lag3_rolling_avg_item_cnt   214200 non-null  float16 \n",
      " 15  lag6_rolling_avg_item_cnt   214200 non-null  float16 \n",
      " 16  lag12_rolling_avg_item_cnt  214200 non-null  float16 \n",
      " 17  month_of_year_sin           214200 non-null  float16 \n",
      " 18  month_of_year_cos           214200 non-null  float16 \n",
      " 19  item_category_id            214200 non-null  category\n",
      "dtypes: category(3), float16(17)\n",
      "memory usage: 9.6 MB\n"
     ]
    }
   ],
   "source": [
    "X_test.info()"
   ]
  },
  {
   "cell_type": "code",
   "execution_count": 22,
   "metadata": {},
   "outputs": [
    {
     "name": "stdout",
     "output_type": "stream",
     "text": [
      "0.4701205183442724\n"
     ]
    }
   ],
   "source": [
    "ridge = Ridge(alpha=10)\n",
    "ridge.fit(X_train, y_train)\n",
    "pred_ridge = ridge.predict(X_dev)\n",
    "print(np.sqrt(mean_squared_error(y_dev, pred_ridge)))"
   ]
  },
  {
   "cell_type": "code",
   "execution_count": 30,
   "metadata": {},
   "outputs": [
    {
     "name": "stdout",
     "output_type": "stream",
     "text": [
      "0.48877265836334827\n"
     ]
    }
   ],
   "source": [
    "lasso = Lasso(alpha=10)\n",
    "lasso.fit(X_train, y_train)\n",
    "pred_lasso = lasso.predict(X_dev)\n",
    "print(np.sqrt(mean_squared_error(y_dev, pred_lasso)))"
   ]
  },
  {
   "cell_type": "code",
   "execution_count": 31,
   "metadata": {},
   "outputs": [
    {
     "name": "stdout",
     "output_type": "stream",
     "text": [
      "0.4206576274295865\n"
     ]
    }
   ],
   "source": [
    "rf = RandomForestRegressor(max_depth=5, min_samples_split=100, oob_score=True, n_jobs=-1)\n",
    "rf.fit(X_train, y_train)\n",
    "pred_rf = rf.predict(X_dev)\n",
    "print(np.sqrt(mean_squared_error(y_dev, pred_rf)))"
   ]
  },
  {
   "cell_type": "code",
   "execution_count": 20,
   "metadata": {},
   "outputs": [],
   "source": [
    "pred = model.predict(X_test, num_iteration=model.best_iteration_)\n",
    "submission = pd.DataFrame({\"item_cnt_month\":pred}).reset_index().rename({\"index\":\"ID\"}, axis=1)\n",
    "submission.to_csv(\"data/submission.csv\", index=False)"
   ]
  },
  {
   "cell_type": "code",
   "execution_count": 108,
   "metadata": {},
   "outputs": [],
   "source": [
    "feature.to_csv(\"data/feature_train_baseline.csv\", index=False)\n",
    "feature_test.to_csv(\"data/feature_test_baseline.csv\", index=False)"
   ]
  },
  {
   "cell_type": "code",
   "execution_count": 111,
   "metadata": {},
   "outputs": [
    {
     "data": {
      "text/plain": [
       "['model/lgb_baseline.pkl']"
      ]
     },
     "execution_count": 111,
     "metadata": {},
     "output_type": "execute_result"
    }
   ],
   "source": [
    "joblib.dump(model, \"model/lgb_baseline.pkl\")"
   ]
  }
 ],
 "metadata": {
  "interpreter": {
   "hash": "4ce0e62306dd6a5716965d4519ada776f947e6dfc145b604b11307c10277ef29"
  },
  "kernelspec": {
   "display_name": "Python 3.7.4 64-bit",
   "language": "python",
   "name": "python3"
  },
  "language_info": {
   "codemirror_mode": {
    "name": "ipython",
    "version": 3
   },
   "file_extension": ".py",
   "mimetype": "text/x-python",
   "name": "python",
   "nbconvert_exporter": "python",
   "pygments_lexer": "ipython3",
   "version": "3.9.6"
  },
  "orig_nbformat": 4
 },
 "nbformat": 4,
 "nbformat_minor": 2
}
